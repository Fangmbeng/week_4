{
 "cells": [
  {
   "cell_type": "code",
   "execution_count": 1,
   "metadata": {},
   "outputs": [
    {
     "name": "stdout",
     "output_type": "stream",
     "text": [
      "['Argentina', 'San Diego', 'Boston', 'New York']\n"
     ]
    }
   ],
   "source": [
    "# Filter out all of the empty strings from the list\n",
    "\n",
    "places = [\" \", \"Argentina\", \" \", \"San Diego\", \" \", \" \", \" \", \"Boston\", \"New York\"]\n",
    "\n",
    "def remove_space(num):\n",
    "    return num != \" \"\n",
    "\n",
    "list_2 = list(filter(remove_space, places))\n",
    "print(list_2)\n"
   ]
  },
  {
   "attachments": {},
   "cell_type": "markdown",
   "metadata": {},
   "source": [
    "places = [('Nashua', 32), (\"Boston\", 12), (\"Los Angeles\", 44), (\"Miami\", 29)]"
   ]
  },
  {
   "cell_type": "code",
   "execution_count": 1,
   "metadata": {},
   "outputs": [
    {
     "name": "stdout",
     "output_type": "stream",
     "text": [
      "[('Nashua', 89.6), ('Boston', 53.6), ('Los Angeles', 111.2), ('Miami', 84.2)]\n"
     ]
    }
   ],
   "source": [
    "places = [('Nashua', 32), (\"Boston\", 12), (\"Los Angeles\", 44), (\"Miami\", 29)]\n",
    "place = list(map(lambda x: (x[0], ((9 / 5) * x[1]) + 32), places))\n",
    "print(place)"
   ]
  },
  {
   "cell_type": "markdown",
   "metadata": {},
   "source": []
  },
  {
   "cell_type": "code",
   "execution_count": 4,
   "metadata": {},
   "outputs": [
    {
     "name": "stdout",
     "output_type": "stream",
     "text": [
      "['Victor aNisimov', 'Gary A.J. Bernstein', 'Joel Carter', 'Andrew P. Garfield', 'David hassELHOFF']\n"
     ]
    }
   ],
   "source": [
    "authors = [\"Joel Carter\", \"Victor aNisimov\", \"Andrew P. Garfield\",\"David hassELHOFF\",\"Gary A.J. Bernstein\"]\n",
    "authors.sort(reverse=False, key=lambda author: author.lower().split()[-1])\n",
    "print(authors)"
   ]
  },
  {
   "attachments": {},
   "cell_type": "markdown",
   "metadata": {},
   "source": [
    "Exercise #4\n",
    "Write a recursion function to perform the fibonacci sequence up to the number passed in.\n",
    "\n",
    "Output for fib(5) => Iteration 0: 0 Iteration 1: 1 Iteration 2: 1 Iteration 3: 2 Iteration 4: 3 Iteration 5: 5 Iteration 6: 8"
   ]
  },
  {
   "cell_type": "code",
   "execution_count": 5,
   "metadata": {},
   "outputs": [
    {
     "name": "stdout",
     "output_type": "stream",
     "text": [
      "iteration 0: 0\n",
      "iteration 1: 1\n",
      "iteration 2: 1\n",
      "iteration 3: 2\n",
      "iteration 4: 3\n",
      "iteration 5: 5\n",
      "iteration 6: 8\n"
     ]
    }
   ],
   "source": [
    "def hidden_cache():\n",
    "    cache = {\n",
    "        0:0,\n",
    "        1:1,\n",
    "        2:1\n",
    "    }\n",
    "    \n",
    "    def fib(num):\n",
    "        if num in cache:\n",
    "            return cache[num]\n",
    "        else:\n",
    "            results = fib(num-2)+fib(num-1)\n",
    "            cache[num]=results\n",
    "            return cache[num]\n",
    "    return fib\n",
    "\n",
    "fib = hidden_cache()\n",
    "\n",
    "for i in range(7):\n",
    "    print(f\"iteration {i}: {fib(i)}\")"
   ]
  },
  {
   "attachments": {},
   "cell_type": "markdown",
   "metadata": {},
   "source": [
    "Exercise #5\n",
    "Create a generator that takes a number argument and yields that number squared, then prints each number squared until zero is reached."
   ]
  },
  {
   "cell_type": "code",
   "execution_count": 3,
   "metadata": {},
   "outputs": [
    {
     "name": "stdout",
     "output_type": "stream",
     "text": [
      "36\n",
      "25\n",
      "16\n",
      "9\n",
      "4\n",
      "1\n",
      "0\n"
     ]
    }
   ],
   "source": [
    "def cube(num):\n",
    "    i = 0\n",
    "    while i <= num:\n",
    "        yield num\n",
    "        num -= 1\n",
    "\n",
    "for x in cube(6):\n",
    "    x**=2\n",
    "    print(x)"
   ]
  }
 ],
 "metadata": {
  "kernelspec": {
   "display_name": "Python 3",
   "language": "python",
   "name": "python3"
  },
  "language_info": {
   "codemirror_mode": {
    "name": "ipython",
    "version": 3
   },
   "file_extension": ".py",
   "mimetype": "text/x-python",
   "name": "python",
   "nbconvert_exporter": "python",
   "pygments_lexer": "ipython3",
   "version": "3.9.1"
  },
  "orig_nbformat": 4,
  "vscode": {
   "interpreter": {
    "hash": "ffc532ed8a784cdfb8a39261f01be3d3895cee2e2b54e8698a7318bacbcb2147"
   }
  }
 },
 "nbformat": 4,
 "nbformat_minor": 2
}
